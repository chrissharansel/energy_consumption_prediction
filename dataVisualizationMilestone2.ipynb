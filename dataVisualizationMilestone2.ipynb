{
 "cells": [
  {
   "cell_type": "markdown",
   "metadata": {
    "id": "SEKAtoCDX45F"
   },
   "source": [
    "# **Energy Consumption Data Exploration and Visualization**\n",
    "This project explores energy consumption data from households, using visualization and feature engineering to derive insights. The analysis includes initial data exploration, handling missing values, feature engineering, and detailed visualizations for data understanding.\n",
    "# Dataset Overview\n",
    "The dataset records electrical power consumption over time, with columns for:\n",
    "\n",
    "1. Date and Time - Timestamps of measurements.\n",
    "2. Global Active Power - Power consumed by household appliances (in kilowatts).\n",
    "3. Global Reactive Power - Power stored in the system for reactive components (in kilowatts).\n",
    "4. Voltage - Voltage measurements (in volts).\n",
    "5. Global Intensity - Current intensity (in amperes).\n",
    "6. Sub Metering 1, 2, 3 - Power readings for specific sub-meters in watt-hours.\n",
    "## Step 1: Problem Definition and Objective\n",
    "The goal of this project is to analyze electricity consumption trends, identify patterns, and provide insights that can guide energy providers and policymakers in making informed decisions. The analysis will leverage data-driven methods, focusing on visualizations and encoding for deeper insights.\n",
    "The primary goal is to explore and analyze electricity consumption patterns to uncover insights that aid energy providers and policymakers in better planning and management.\n",
    "\n",
    "\n",
    "---\n",
    "# Step 2: Import Libraries and Load the Dataset\n",
    "We start by importing essential Python libraries for data handling, visualization, and statistical analysis. Each library has a specific purpose:\n",
    "\n",
    "pandas: Used for data manipulation and preprocessing.\n",
    "numpy: Helpful for numerical operations.\n",
    "matplotlib and seaborn: Libraries for generating informative plots.\n",
    "\n",
    "\n"
   ]
  },
  {
   "cell_type": "code",
   "execution_count": null,
   "metadata": {
    "id": "Q1Pl959mXvmW"
   },
   "outputs": [],
   "source": [
    "import pandas as pd\n",
    "import numpy as np\n",
    "import matplotlib.pyplot as plt\n",
    "import seaborn as sns\n",
    "\n",
    "# Load dataset\n",
    "!gdown --fuzzy https://drive.google.com/file/d/1bvaXJJqNObOCkX-i475BNxpidk024pyx/view?usp=sharing\n",
    "data=pd.read_csv('/content/household_power_consumption.txt',sep=\";\")\n"
   ]
  },
  {
   "cell_type": "markdown",
   "metadata": {
    "id": "DzwiQ_wxYqGt"
   },
   "source": [
    "This code imports essential libraries for data handling (pandas, numpy) and visualization (matplotlib, seaborn). The dataset is loaded using the read_csv function, where the sep=\";\" argument specifies the delimiter."
   ]
  },
  {
   "cell_type": "markdown",
   "metadata": {
    "id": "q1rJoYb8ZoNI"
   },
   "source": [
    "# Step 3: Displaying Basic Information About the Data\n",
    "Displaying the First and Last Few Rows of the Dataset\n",
    "To gain an initial understanding, we’ll view the first and last few records in the dataset. This provides insight into data structure, types of values, and potential irregularities.\n"
   ]
  },
  {
   "cell_type": "code",
   "execution_count": null,
   "metadata": {
    "id": "3urXdKLXYpvj"
   },
   "outputs": [],
   "source": [
    "data.head()  # View first 5 rows\n",
    "data.tail()  # View last 5 rows\n"
   ]
  },
  {
   "cell_type": "markdown",
   "metadata": {
    "id": "3Hbh08mvZxdA"
   },
   "source": [
    "The .head() and .tail() functions display the first and last 5 records of the dataset, providing an initial glance at the data structure and contents."
   ]
  },
  {
   "cell_type": "markdown",
   "metadata": {
    "id": "huXwUNt_gSoC"
   },
   "source": [
    "# Basic Dataset Metrics"
   ]
  },
  {
   "cell_type": "code",
   "execution_count": null,
   "metadata": {
    "id": "3G4askk7gT8F"
   },
   "outputs": [],
   "source": [
    "# Display the number of rows and columns in the dataset\n",
    "data.shape"
   ]
  },
  {
   "cell_type": "markdown",
   "metadata": {
    "id": "gS_WXTaDZ1hc"
   },
   "source": [
    "# Check Dataset Dimensions and Column Types"
   ]
  },
  {
   "cell_type": "code",
   "execution_count": null,
   "metadata": {
    "id": "3qmQFBwWZ4u-"
   },
   "outputs": [],
   "source": [
    "print(\"Dataset Dimensions:\", data.shape)\n",
    "data.info()  # Overview of columns and data types"
   ]
  },
  {
   "cell_type": "markdown",
   "metadata": {
    "id": "-_n1hbOQZ8Bc"
   },
   "source": [
    "The shape attribute displays the number of rows and columns, while .info() provides column types and non-null counts, helping identify any potential data type issues or missing values."
   ]
  },
  {
   "cell_type": "markdown",
   "metadata": {
    "id": "jbTAObtqgFVO"
   },
   "source": [
    "# Statistical Summary of Numerical Data\n"
   ]
  },
  {
   "cell_type": "markdown",
   "metadata": {
    "id": "cM5_vh3RZ_6-"
   },
   "source": [
    "# Data Cleaning and Transformation\n",
    "Statistical Summary"
   ]
  },
  {
   "cell_type": "code",
   "execution_count": null,
   "metadata": {
    "id": "pRdeG1tMaE_p"
   },
   "outputs": [],
   "source": [
    "data.describe()  # Summary of numerical columns\n",
    "data.describe(include='object')  # Summary of categorical columns"
   ]
  },
  {
   "cell_type": "markdown",
   "metadata": {
    "id": "1nNJZId0aIFY"
   },
   "source": [
    "The describe() function summarizes numerical columns with metrics like mean, median, min, and max values. The include='object' argument generates a summary of non-numeric columns, providing insight into data distributions.\n",
    "# Step 4: Handling Missing Values\n",
    "Checking for Null Values"
   ]
  },
  {
   "cell_type": "code",
   "execution_count": null,
   "metadata": {
    "id": "hSrLZJfxgs--"
   },
   "outputs": [],
   "source": [
    "# Check for missing values\n",
    "data.isnull().any()"
   ]
  },
  {
   "cell_type": "code",
   "execution_count": null,
   "metadata": {
    "id": "ru9TNyGAZ-zJ"
   },
   "outputs": [],
   "source": [
    "print(\"Missing Values Count:\\n\", data.isnull().sum())\n",
    "missing_percentage = (data.isnull().mean() * 100).round(2)\n",
    "print(\"Missing Values Percentage:\\n\", missing_percentage)"
   ]
  },
  {
   "cell_type": "markdown",
   "metadata": {
    "id": "zfLVNQLraObh"
   },
   "source": [
    "These commands calculate missing values per column and their respective percentages, which help assess the extent of missing data in each feature.\n",
    "# Convert Data Types"
   ]
  },
  {
   "cell_type": "code",
   "execution_count": null,
   "metadata": {
    "id": "aBk0wCwPaVdn"
   },
   "outputs": [],
   "source": [
    "columns_to_convert = ['Global_active_power', 'Global_reactive_power', 'Voltage',\n",
    "                      'Global_intensity', 'Sub_metering_1', 'Sub_metering_2', 'Sub_metering_3']\n",
    "data[columns_to_convert] = data[columns_to_convert].apply(pd.to_numeric, errors='coerce')\n",
    "data.info()  # Confirm data type conversion\n"
   ]
  },
  {
   "cell_type": "markdown",
   "metadata": {
    "id": "fTNh0xqOaW1z"
   },
   "source": [
    " The pd.to_numeric function converts specified columns to float, handling any non-numeric values by setting them to NaN. Confirming conversion with .info() ensures these columns are now suitable for numerical analysis.\n",
    "\n",
    "# Fill Missing Values"
   ]
  },
  {
   "cell_type": "code",
   "execution_count": null,
   "metadata": {
    "id": "BEcEeRdoajQZ"
   },
   "outputs": [],
   "source": [
    "data['Sub_metering_3'].fillna(data['Sub_metering_3'].mean(), inplace=True)\n",
    "data.isnull().sum()  # Confirm no missing values remain"
   ]
  },
  {
   "cell_type": "markdown",
   "metadata": {
    "id": "47lCuCRTakRE"
   },
   "source": [
    " Missing values in the Sub_metering_3 column are filled with the column mean using .fillna(). This step helps handle data gaps without dropping rows, preserving dataset size."
   ]
  },
  {
   "cell_type": "code",
   "execution_count": null,
   "metadata": {
    "id": "GDBFP-BpgIO0"
   },
   "outputs": [],
   "source": [
    "# Display statistical summary for numerical columns\n",
    "data.describe()\n"
   ]
  },
  {
   "cell_type": "markdown",
   "metadata": {
    "id": "o0zqV1NTg8OM"
   },
   "source": [
    "# Handling Null Values\n",
    "Replacing null values in Sub_metering_3 with the column's mean."
   ]
  },
  {
   "cell_type": "code",
   "execution_count": null,
   "metadata": {
    "id": "AYZu7M2pg-9S"
   },
   "outputs": [],
   "source": [
    "# Fill null values in 'Sub_metering_3' with the mean value\n",
    "average = data['Sub_metering_3'].mean()\n",
    "data['Sub_metering_3'].fillna(average, inplace=True)\n",
    "data.isnull().sum()  # Check again for null values"
   ]
  },
  {
   "cell_type": "markdown",
   "metadata": {
    "id": "xTBZv0V_hA9j"
   },
   "source": [
    "All missing values in Sub_metering_3 are replaced with the mean, ensuring no null values remain."
   ]
  },
  {
   "cell_type": "markdown",
   "metadata": {
    "id": "ZDTU1rm3aqdZ"
   },
   "source": [
    "# Step 5: Converting Data Types\n",
    "Convert Object Data Types to Numeric\n",
    "Convert columns from object to float (excluding Date and Time), as they are necessary for mathematical operations and visualizations."
   ]
  },
  {
   "cell_type": "code",
   "execution_count": null,
   "metadata": {
    "id": "bwTfsSq-apoE"
   },
   "outputs": [],
   "source": [
    "data['DateTime'] = pd.to_datetime(data['Date'] + ' ' + data['Time'])\n",
    "data['Year'] = data['DateTime'].dt.year\n",
    "data['Month'] = data['DateTime'].dt.month\n",
    "data['Day'] = data['DateTime'].dt.day\n",
    "data['Hour'] = data['DateTime'].dt.hour\n",
    "data['Minute'] = data['DateTime'].dt.minute\n"
   ]
  },
  {
   "cell_type": "code",
   "execution_count": null,
   "metadata": {
    "id": "xMpbFK4bhNg1"
   },
   "outputs": [],
   "source": [
    "# Convert object data types to numeric (except 'Date' and 'Time')\n",
    "data['Global_active_power'] = pd.to_numeric(data['Global_active_power'], errors='coerce')\n",
    "data['Global_reactive_power'] = pd.to_numeric(data['Global_reactive_power'], errors='coerce')\n",
    "data['Voltage'] = pd.to_numeric(data['Voltage'], errors='coerce')\n",
    "data['Global_intensity'] = pd.to_numeric(data['Global_intensity'], errors='coerce')\n",
    "data['Sub_metering_1'] = pd.to_numeric(data['Sub_metering_1'], errors='coerce')\n",
    "data['Sub_metering_2'] = pd.to_numeric(data['Sub_metering_2'], errors='coerce')\n",
    "\n",
    "# Verify changes in data types\n",
    "data.info()\n"
   ]
  },
  {
   "cell_type": "markdown",
   "metadata": {
    "id": "JA1Lk-_navcY"
   },
   "source": [
    "Combining the Date and Time columns into a single DateTime feature enables further extraction of Year, Month, Day, Hour, and Minute. These new columns help analyze seasonal and hourly usage trends.Identifying Weekends and Sunlight Hours"
   ]
  },
  {
   "cell_type": "markdown",
   "metadata": {
    "id": "meSzTHt4a0HT"
   },
   "source": [
    "# Identifying Weekends and Sunlight Hours"
   ]
  },
  {
   "cell_type": "code",
   "execution_count": null,
   "metadata": {
    "id": "LlzdhBmxbEEe"
   },
   "outputs": [],
   "source": [
    "def is_holiday(date):\n",
    "    return 1.0 if pd.to_datetime(date).weekday() >= 5 else 0.0\n",
    "\n",
    "data['Is_holiday'] = data['Date'].apply(is_holiday)\n",
    "data['Light'] = data['Hour'].apply(lambda x: 1.0 if 6 <= x < 18 else 0.0)"
   ]
  },
  {
   "cell_type": "markdown",
   "metadata": {
    "id": "9QYu2NM9bHjd"
   },
   "source": [
    "The is_holiday function identifies weekends (Saturdays and Sundays) as holidays. Additionally, the Light feature categorizes hours from 6 AM to 6 PM as daylight, assisting in determining electricity usage patterns relative to sunlight.\n",
    "\n",
    "\n",
    "#Step 6: Data Visualization\n",
    "Distribution of Voltage\n",
    "Plotting the distribution to understand voltage levels' frequency across different ranges.\n",
    "\n",
    "python\n",
    "Copy code\n"
   ]
  },
  {
   "cell_type": "code",
   "execution_count": null,
   "metadata": {
    "id": "D6-nqlwtbP8u"
   },
   "outputs": [],
   "source": [
    "plt.figure(figsize=(10, 6))\n",
    "plt.hist(data['Voltage'], bins=50, color='skyblue', edgecolor='black')\n",
    "plt.xlabel('Voltage (V)')\n",
    "plt.ylabel('Frequency')\n",
    "plt.title('Distribution of Voltage')\n",
    "plt.show()"
   ]
  },
  {
   "cell_type": "markdown",
   "metadata": {
    "id": "TcJdeJgPhZMH"
   },
   "source": [
    " Most voltage readings fall between 200 and 260 volts, indicating stable electricity supply levels.\n",
    "# Relationship between Voltage and Global Active Power\n",
    "A scatter plot to examine the relationship between voltage and active power."
   ]
  },
  {
   "cell_type": "code",
   "execution_count": null,
   "metadata": {
    "id": "ZieMsBXNdl7W"
   },
   "outputs": [],
   "source": [
    "plt.figure(figsize=(10, 6))\n",
    "sns.scatterplot(x='Voltage', y='Global_active_power', data=data, color='purple')\n",
    "plt.xlabel('Voltage (V)')\n",
    "plt.ylabel('Global Active Power (kW)')\n",
    "plt.title('Voltage vs. Global Active Power')\n",
    "plt.show()\n"
   ]
  },
  {
   "cell_type": "markdown",
   "metadata": {
    "id": "2xABor_Ohhgs"
   },
   "source": [
    "The scatter plot suggests a positive correlation, where an increase in voltage often corresponds with higher power consumption.\n",
    "# Total Metering Usage\n",
    "Visualizing the total usage across the three sub-metering areas."
   ]
  },
  {
   "cell_type": "code",
   "execution_count": null,
   "metadata": {
    "id": "vrBl2dOfhklo"
   },
   "outputs": [],
   "source": [
    "# Sum up each sub_metering column\n",
    "metering_data = data[['Sub_metering_1', 'Sub_metering_2', 'Sub_metering_3']].sum()\n",
    "\n",
    "# Pie chart of total meter readings\n",
    "plt.figure(figsize=(8, 8))\n",
    "plt.pie(metering_data, labels=metering_data.index, autopct='%1.1f%%', startangle=90, explode=(0.1, 0, 0))\n",
    "plt.title('Total Energy Consumption per Sub Meter')\n",
    "plt.show()\n"
   ]
  },
  {
   "cell_type": "markdown",
   "metadata": {
    "id": "UF1Nyx6UhmJk"
   },
   "source": [
    "Sub_metering_3 accounts for the highest usage, indicating it might represent the most energy-intensive area or activity.\n",
    "# Pair Plot\n",
    "Pair plots provide insight into relationships between multiple variables."
   ]
  },
  {
   "cell_type": "code",
   "execution_count": null,
   "metadata": {
    "id": "WKBQBkishpmt"
   },
   "outputs": [],
   "source": [
    "sns.pairplot(data[['Global_active_power', 'Global_reactive_power', 'Voltage', 'Global_intensity']])\n",
    "plt.show()\n"
   ]
  },
  {
   "cell_type": "markdown",
   "metadata": {
    "id": "rK8LJA_rhq8V"
   },
   "source": [
    "The pair plot reveals that Global_active_power and Global_reactive_power have a strong positive correlation."
   ]
  },
  {
   "cell_type": "markdown",
   "metadata": {
    "id": "SkOZ0DVxhs6z"
   },
   "source": [
    "# Step 7: Encoding and Feature Engineering\n",
    "Date and Time Feature Engineering\n",
    "Convert Date and Time to separate components for year, month, day, and hour to capture time-based patterns.\n",
    "\n",
    "python\n",
    "Copy code\n"
   ]
  },
  {
   "cell_type": "code",
   "execution_count": null,
   "metadata": {
    "id": "B4DdyvQKhsi-"
   },
   "outputs": [],
   "source": [
    "# Convert 'Date' and 'Time' into a single DateTime column\n",
    "data['DateTime'] = pd.to_datetime(data['Date'] + ' ' + data['Time'])\n",
    "\n",
    "# Extract year, month, day, hour, and minute\n",
    "data['Year'] = data['DateTime'].dt.year\n",
    "data['Month'] = data['DateTime'].dt.month\n",
    "data['Day'] = data['DateTime'].dt.day\n",
    "data['Hour'] = data['DateTime'].dt.hour\n",
    "data['Minute'] = data['DateTime'].dt.minute\n",
    "data.head()\n"
   ]
  },
  {
   "cell_type": "markdown",
   "metadata": {
    "id": "a28jo0Vohz7z"
   },
   "source": [
    "Adding these new time-based features can help in identifying patterns and seasonal trends.\n",
    "# Public Holiday and Daylight Encoding\n",
    "Identify weekends as public holidays and assign a binary value for daylight."
   ]
  },
  {
   "cell_type": "code",
   "execution_count": null,
   "metadata": {
    "id": "RMJdOdgCh3Rc"
   },
   "outputs": [],
   "source": [
    "# Function to identify weekends as holidays\n",
    "def is_holiday(date):\n",
    "    return 1.0 if pd.to_datetime(date).weekday() >= 5 else 0.0\n",
    "\n",
    "# Apply holiday and daylight encoding\n",
    "data['Is_holiday'] = data['Date'].apply(is_holiday)\n",
    "data['Light'] = data['Hour'].apply(lambda x: 1 if 6 <= x < 18 else 0)\n"
   ]
  },
  {
   "cell_type": "markdown",
   "metadata": {
    "id": "-mbFR1mqh5Jb"
   },
   "source": [
    "These features could help capture variations in consumption based on holiday schedules and natural daylight availability."
   ]
  },
  {
   "cell_type": "markdown",
   "metadata": {
    "id": "ZRRGWhSWiI7E"
   },
   "source": [
    "# Time Series Analysis of Global Active Power\n",
    "A time series line plot helps observe how electricity consumption (global active power) fluctuates over time. This can reveal daily, weekly, and seasonal patterns."
   ]
  },
  {
   "cell_type": "code",
   "execution_count": null,
   "metadata": {
    "id": "boXVieMLiMoD"
   },
   "outputs": [],
   "source": [
    "plt.figure(figsize=(14, 6))\n",
    "plt.plot(data['DateTime'], data['Global_active_power'], color='darkblue', linewidth=0.5)\n",
    "plt.title('Time Series of Global Active Power')\n",
    "plt.xlabel('DateTime')\n",
    "plt.ylabel('Global Active Power (kW)')\n",
    "plt.show()\n"
   ]
  },
  {
   "cell_type": "markdown",
   "metadata": {
    "id": "Rg2Tw9jRiPLM"
   },
   "source": [
    "This plot provides a clear visualization of energy consumption trends over time. Peaks and valleys may correspond to higher usage during specific times (e.g., evenings or weekends) or holidays.\n",
    "\n",
    "# Hourly Electricity Consumption Pattern\n",
    "Plotting average global active power for each hour of the day can show which times of day have higher energy usage."
   ]
  },
  {
   "cell_type": "code",
   "execution_count": null,
   "metadata": {
    "id": "AtJUXGE8iO5B"
   },
   "outputs": [],
   "source": [
    "hourly_usage = data.groupby('Hour')['Global_active_power'].mean()\n",
    "\n",
    "plt.figure(figsize=(10, 6))\n",
    "plt.plot(hourly_usage.index, hourly_usage.values, color='orange', marker='o')\n",
    "plt.title('Average Hourly Electricity Consumption')\n",
    "plt.xlabel('Hour of Day')\n",
    "plt.ylabel('Average Global Active Power (kW)')\n",
    "plt.grid()\n",
    "plt.show()\n"
   ]
  },
  {
   "cell_type": "markdown",
   "metadata": {
    "id": "U6mBLzaNiTiL"
   },
   "source": [
    "This graph can show whether electricity usage is higher during specific hours, like early morning or evening, which is helpful for peak demand analysis.\n",
    "\n"
   ]
  },
  {
   "cell_type": "markdown",
   "metadata": {
    "id": "6mhBfraUiqaF"
   },
   "source": [
    "# Monthly Global Active Power Consumption\n",
    "This bar plot illustrates the total consumption of electricity (global active power) by month, helping identify seasonal usage patterns."
   ]
  },
  {
   "cell_type": "code",
   "execution_count": null,
   "metadata": {
    "id": "86bPQtETisqr"
   },
   "outputs": [],
   "source": [
    "monthly_usage = data.groupby('Month')['Global_active_power'].sum()\n",
    "\n",
    "plt.figure(figsize=(10, 6))\n",
    "plt.bar(monthly_usage.index, monthly_usage.values, color='skyblue')\n",
    "plt.title('Total Monthly Global Active Power Consumption')\n",
    "plt.xlabel('Month')\n",
    "plt.ylabel('Total Global Active Power (kW)')\n",
    "plt.xticks(range(1, 13))\n",
    "plt.show()\n"
   ]
  },
  {
   "cell_type": "markdown",
   "metadata": {
    "id": "R3omK9n4ivKz"
   },
   "source": [
    "This plot highlights seasonal variations. For example, higher values in winter could indicate increased usage due to heating, while summer peaks may relate to air conditioning."
   ]
  },
  {
   "cell_type": "code",
   "execution_count": null,
   "metadata": {
    "id": "c_31jvftiu5a"
   },
   "outputs": [],
   "source": []
  },
  {
   "cell_type": "markdown",
   "metadata": {
    "id": "v3vpgwXBiZrP"
   },
   "source": [
    "# Box Plot of Voltage by Hour\n",
    "This box plot shows the distribution of voltage for each hour of the day, indicating any potential variability in voltage throughout the day."
   ]
  },
  {
   "cell_type": "code",
   "execution_count": null,
   "metadata": {
    "id": "FdqvXrv9iWsS"
   },
   "outputs": [],
   "source": [
    "plt.figure(figsize=(12, 6))\n",
    "sns.boxplot(x='Hour', y='Voltage', data=data, palette='coolwarm')\n",
    "plt.title('Voltage Distribution by Hour of Day')\n",
    "plt.xlabel('Hour of Day')\n",
    "plt.ylabel('Voltage (V)')\n",
    "plt.show()\n"
   ]
  },
  {
   "cell_type": "markdown",
   "metadata": {
    "id": "lAf5Yx2bicnM"
   },
   "source": [
    "This plot provides insights into the stability of voltage throughout the day. Sudden fluctuations could hint at demand changes or irregularities in supply."
   ]
  },
  {
   "cell_type": "markdown",
   "metadata": {
    "id": "HSmbTb8Sih-d"
   },
   "source": [
    "# Correlation Heatmap\n",
    "A heatmap can visualize correlations among all numerical variables, helping identify strong relationships between energy features like power, voltage, and sub-metering.\n",
    "\n"
   ]
  },
  {
   "cell_type": "code",
   "execution_count": null,
   "metadata": {
    "id": "U7JdBlHGihxP"
   },
   "outputs": [],
   "source": [
    "plt.figure(figsize=(10, 8))\n",
    "sns.heatmap(data[['Global_active_power', 'Global_reactive_power', 'Voltage', 'Global_intensity',\n",
    "                 'Sub_metering_1', 'Sub_metering_2', 'Sub_metering_3']].corr(),\n",
    "            annot=True, cmap='coolwarm', linewidths=0.5)\n",
    "plt.title('Correlation Heatmap of Energy Features')\n",
    "plt.show()"
   ]
  },
  {
   "cell_type": "markdown",
   "metadata": {
    "id": "nliXI3EKimvT"
   },
   "source": [
    "The heatmap reveals correlations among features, such as a strong relationship between global active and reactive power, which could be crucial in understanding energy dynamics."
   ]
  },
  {
   "cell_type": "markdown",
   "metadata": {
    "id": "J3-kMrODix_H"
   },
   "source": [
    "# Stacked Area Plot for Sub-metering Over Time\n",
    "A stacked area plot shows cumulative sub-metering values over time, making it easy to see each sub-meter's contribution to total energy usage."
   ]
  },
  {
   "cell_type": "code",
   "execution_count": null,
   "metadata": {
    "id": "JLwx7C_Ti0J9"
   },
   "outputs": [],
   "source": [
    "plt.figure(figsize=(14, 6))\n",
    "plt.stackplot(data['DateTime'],\n",
    "              data['Sub_metering_1'],\n",
    "              data['Sub_metering_2'],\n",
    "              data['Sub_metering_3'],\n",
    "              labels=['Sub_metering_1', 'Sub_metering_2', 'Sub_metering_3'],\n",
    "              colors=['#ff9999', '#66b3ff', '#99ff99'])\n",
    "plt.legend(loc='upper left')\n",
    "plt.title('Sub-metering Energy Usage Over Time')\n",
    "plt.xlabel('DateTime')\n",
    "plt.ylabel('Energy Usage (Wh)')\n",
    "plt.show()\n"
   ]
  },
  {
   "cell_type": "markdown",
   "metadata": {
    "id": "_UKnb0SIi1VT"
   },
   "source": [
    "This plot reveals which areas are consuming more energy and how each sub-metered area contributes to total energy usage over time, providing insights into possible energy-saving interventions."
   ]
  }
 ],
 "metadata": {
  "colab": {
   "authorship_tag": "ABX9TyPIkwMfm9ejpBBglmQOkkgm",
   "provenance": []
  },
  "kernelspec": {
   "display_name": "Python 3",
   "name": "python3"
  },
  "language_info": {
   "name": "python"
  }
 },
 "nbformat": 4,
 "nbformat_minor": 0
}
